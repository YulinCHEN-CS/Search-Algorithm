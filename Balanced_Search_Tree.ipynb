{
 "cells": [
  {
   "cell_type": "markdown",
   "source": [
    "Full Implementation of Red Black Balanced Search Tree\n",
    "------------------------------------------------------"
   ],
   "metadata": {
    "collapsed": false
   }
  },
  {
   "cell_type": "code",
   "execution_count": 1,
   "outputs": [],
   "source": [
    "# Define colours\n",
    "RED = 0\n",
    "BLACK = 1"
   ],
   "metadata": {
    "collapsed": false
   }
  },
  {
   "cell_type": "code",
   "execution_count": 3,
   "outputs": [],
   "source": [
    "# Define Node class\n",
    "class Node:\n",
    "    def __init__(self, value, colour, parent=None, left=None, right=None):\n",
    "        self.value = value\n",
    "        self.colour = colour\n",
    "        self.parent = parent\n",
    "        self.left = left\n",
    "        self.right = right"
   ],
   "metadata": {
    "collapsed": false
   }
  },
  {
   "cell_type": "code",
   "execution_count": 4,
   "outputs": [],
   "source": [
    "# Define tree class\n",
    "class RedBlackTree:\n",
    "    def __init__(self):\n",
    "        self.root = None # initial root node\n",
    "\n",
    "    def insert(self, value):\n",
    "        new_node = Node(value, RED)\n",
    "\n",
    "        # if tree is empty set new node as root and colour black\n",
    "        if not self.root:\n",
    "            self.root = new_node\n",
    "            new_node.colour = BLACK\n",
    "\n",
    "        else:\n",
    "            # find appropriate position for new node using binary search\n",
    "            current_node = self.root\n",
    "\n",
    "            while True:\n",
    "                if value < current_node.value: # go left\n",
    "                    if current_node.left:\n",
    "                        current_node = current_node.left\n",
    "                    else:\n",
    "                        current_node.left = new_node\n",
    "                        new_node.parent = current_node\n",
    "                        break\n",
    "\n",
    "                else: # go right\n",
    "                    if current_node.right:\n",
    "                        current_node = current_node.right\n",
    "                    else:\n",
    "                        current_node.right = new_node\n",
    "                        new_node.parent = current_node\n",
    "                        break\n",
    "\n",
    "            self.fixup(new_node)\n",
    "\n",
    "    def fixup(self, node):\n",
    "        pass\n"
   ],
   "metadata": {
    "collapsed": false
   }
  }
 ],
 "metadata": {
  "kernelspec": {
   "display_name": "Python 3",
   "language": "python",
   "name": "python3"
  },
  "language_info": {
   "codemirror_mode": {
    "name": "ipython",
    "version": 2
   },
   "file_extension": ".py",
   "mimetype": "text/x-python",
   "name": "python",
   "nbconvert_exporter": "python",
   "pygments_lexer": "ipython2",
   "version": "2.7.6"
  }
 },
 "nbformat": 4,
 "nbformat_minor": 0
}
