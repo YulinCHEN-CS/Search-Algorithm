{
 "cells": [
  {
   "cell_type": "markdown",
   "source": [
    "Full Implementation of Red Black Balanced Search Tree\n",
    "------------------------------------------------------"
   ],
   "metadata": {
    "collapsed": false
   }
  },
  {
   "cell_type": "markdown",
   "source": [
    "The `RBTree` class provides an implementation of a Red Black tree with an `insert` method to add new nodes. The class also contains several helper methods to fix the tree if necessary after a new node is inserted.\n",
    "\n",
    "The `insert` method works as follows:\n",
    "\n",
    "1. If the tree is empty, the new node is inserted as the root and coloured black.\n",
    "2. Otherwise, the tree is searched for the proper location to insert the new node, following the rules of a binary search tree.\n",
    "3. After inserting the new node, the `_fix_tree` method is called to ensure that the Red Black tree properties are maintained.\n",
    "\n",
    "The `_fix_tree` method is responsible for checking and correcting any violations of the Red Black tree properties. It follows a series of cases to determine what rotation(s) and colour changes, if any, are necessary to fix the tree.\n",
    "\n",
    "The `_rotate_left` and `_rotate_right` methods are helper methods used by `_fix_tree` to perform left and right rotations, respectively, on the tree.\n",
    "\n",
    "Together, these methods provide a working implementation of a Red Black tree with an insert method that maintains the Red Black tree properties."
   ],
   "metadata": {
    "collapsed": false
   }
  },
  {
   "cell_type": "code",
   "execution_count": 1,
   "outputs": [],
   "source": [
    "# Define colours\n",
    "RED = True\n",
    "BLACK = False"
   ],
   "metadata": {
    "collapsed": false
   }
  },
  {
   "cell_type": "code",
   "execution_count": 2,
   "outputs": [],
   "source": [
    "# Define node class\n",
    "class RBNode:\n",
    "    def __init__(self, value, colour=RED):\n",
    "        self.value = value\n",
    "        self.colour = colour\n",
    "        self.left = None # left child\n",
    "        self.right = None # right child\n",
    "        self.parent = None\n",
    "\n",
    "    def __repr__(self):\n",
    "        return f\"{self.value}({self.colour})\"\n",
    "\n",
    "    def __iter__(self):\n",
    "        if self.left:\n",
    "            yield from self.left\n",
    "        yield self.value\n",
    "        if self.right:\n",
    "            yield from self.right\n",
    "\n",
    "    def grandparent(self):\n",
    "        if self.parent:\n",
    "            return self.parent.parent\n",
    "\n",
    "    def uncle(self):\n",
    "        if self.grandparent():\n",
    "            if self.grandparent().left == self.parent:\n",
    "                return self.grandparent().right\n",
    "            else:\n",
    "                return self.grandparent().left\n",
    "\n",
    "    def sibling(self):\n",
    "        if self.parent:\n",
    "            if self.parent.left == self:\n",
    "                return self.parent.right\n",
    "            else:\n",
    "                return self.parent.left\n"
   ],
   "metadata": {
    "collapsed": false
   }
  },
  {
   "cell_type": "code",
   "execution_count": 5,
   "outputs": [],
   "source": [
    "# Define tree class\n",
    "class RBTree:\n",
    "    def __init__(self):\n",
    "        self.root = None\n",
    "\n",
    "    def __repr__(self):\n",
    "        return str([v for v in self])\n",
    "\n",
    "    def __iter__(self):\n",
    "        if self.root:\n",
    "            yield from self.root\n",
    "\n",
    "    def __contains__(self, value):\n",
    "        if self.root is None:\n",
    "            return False\n",
    "        else:\n",
    "            current = self.root\n",
    "            while True:\n",
    "                if value == current.value:\n",
    "                    return True\n",
    "                elif value < current.value:\n",
    "                    if current.left is None:\n",
    "                        return False\n",
    "                    else:\n",
    "                        current = current.left\n",
    "                else:\n",
    "                    if current.right is None:\n",
    "                        return False\n",
    "                    else:\n",
    "                        current = current.right\n",
    "\n",
    "    def contanins(self, value):\n",
    "        return value in self\n",
    "\n",
    "    def insert(self, value):\n",
    "        node = RBNode(value)\n",
    "        if self.root is None:\n",
    "            self.root = node\n",
    "            self.root.colour = BLACK\n",
    "        else:\n",
    "            current = self.root\n",
    "            while True:\n",
    "                if node.value < current.value:\n",
    "                    if current.left is None:\n",
    "                        current.left = node\n",
    "                        node.parent = current\n",
    "                        break\n",
    "                    else:\n",
    "                        current = current.left\n",
    "                else:\n",
    "                    if current.right is None:\n",
    "                        current.right = node\n",
    "                        node.parent = current\n",
    "                        break\n",
    "                    else:\n",
    "                        current = current.right\n",
    "\n",
    "            self._fixup(node)\n",
    "\n",
    "\n",
    "    def _fixup(self, node : RBNode):\n",
    "        # case 1: node is root\n",
    "        if node.parent is None:\n",
    "            node.colour = BLACK\n",
    "            return\n",
    "\n",
    "        # case 2: parent is black\n",
    "        if node.parent.colour == BLACK:\n",
    "            return\n",
    "\n",
    "        # case 3: parent and uncle are red\n",
    "        if node.uncle() and node.uncle().colour == RED:\n",
    "            node.parent.colour = BLACK\n",
    "            node.uncle().colour = BLACK\n",
    "            node.grandparent().colour = RED\n",
    "            self._fixup(node.grandparent())\n",
    "            return\n",
    "\n",
    "        # case 4: parent is red, uncle is black\n",
    "        else:\n",
    "            # case 4a: node is right child, parent is left child\n",
    "            if node.parent.right == node and node.grandparent().left == node.parent:\n",
    "                self._rotate_left(node.parent)\n",
    "                node = node.left\n",
    "\n",
    "            # case 4b: node is left child, parent is right child\n",
    "            elif node.parent.left == node and node.grandparent().right == node.parent:\n",
    "                self._rotate_right(node.parent)\n",
    "                node = node.right\n",
    "\n",
    "            # case 5: node is left child, parent is left child or node is right child, parent is right child\n",
    "            node.parent.colour = BLACK\n",
    "            node.grandparent().colour = RED\n",
    "            if node.parent.left == node and node.grandparent().left == node.parent:\n",
    "                self._rotate_right(node.grandparent())\n",
    "            else:\n",
    "                self._rotate_left(node.grandparent())\n",
    "\n",
    "\n",
    "    def _rotate_left(self, node : RBNode):\n",
    "        new_parent = node.right\n",
    "        node.right = new_parent.left\n",
    "        if new_parent.left:\n",
    "            new_parent.left.parent = node\n",
    "        new_parent.parent = node.parent\n",
    "        if node.parent is None:\n",
    "            self.root = new_parent\n",
    "        elif node == node.parent.left:\n",
    "            node.parent.left = new_parent\n",
    "        else:\n",
    "            node.parent.right = new_parent\n",
    "        new_parent.left = node\n",
    "        node.parent = new_parent\n",
    "\n",
    "    def _rotate_right(self, node : RBNode):\n",
    "        new_parent = node.left\n",
    "        node.left = new_parent.right\n",
    "        if new_parent.right:\n",
    "            new_parent.right.parent = node\n",
    "        new_parent.parent = node.parent\n",
    "        if node.parent is None:\n",
    "            self.root = new_parent\n",
    "        elif node == node.parent.left:\n",
    "            node.parent.left = new_parent\n",
    "        else:\n",
    "            node.parent.right = new_parent\n",
    "        new_parent.right = node\n",
    "        node.parent = new_parent\n"
   ],
   "metadata": {
    "collapsed": false
   }
  },
  {
   "cell_type": "code",
   "execution_count": 4,
   "outputs": [
    {
     "name": "stdout",
     "output_type": "stream",
     "text": [
      "[1, 2, 3, 4, 5, 6, 7, 8, 9, 10, 11, 12]\n"
     ]
    }
   ],
   "source": [
    "# Test tree\n",
    "tree = RBTree()\n",
    "tree.insert(5)\n",
    "tree.insert(3)\n",
    "tree.insert(7)\n",
    "tree.insert(2)\n",
    "tree.insert(4)\n",
    "tree.insert(6)\n",
    "tree.insert(8)\n",
    "tree.insert(1)\n",
    "tree.insert(9)\n",
    "tree.insert(10)\n",
    "tree.insert(11)\n",
    "tree.insert(12)\n",
    "\n",
    "print(tree)"
   ],
   "metadata": {
    "collapsed": false
   }
  },
  {
   "cell_type": "markdown",
   "source": [
    "# haven't properly tested it yet!!!"
   ],
   "metadata": {
    "collapsed": false
   }
  },
  {
   "cell_type": "code",
   "execution_count": null,
   "outputs": [],
   "source": [],
   "metadata": {
    "collapsed": false
   }
  }
 ],
 "metadata": {
  "kernelspec": {
   "display_name": "Python 3",
   "language": "python",
   "name": "python3"
  },
  "language_info": {
   "codemirror_mode": {
    "name": "ipython",
    "version": 2
   },
   "file_extension": ".py",
   "mimetype": "text/x-python",
   "name": "python",
   "nbconvert_exporter": "python",
   "pygments_lexer": "ipython2",
   "version": "2.7.6"
  }
 },
 "nbformat": 4,
 "nbformat_minor": 0
}
