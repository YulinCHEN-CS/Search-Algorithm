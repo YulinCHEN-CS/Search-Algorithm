{
 "cells": [
  {
   "cell_type": "markdown",
   "metadata": {},
   "source": [
    "# Set Membership"
   ]
  },
  {
   "cell_type": "markdown",
   "metadata": {},
   "source": [
    "The cell below defines two **abstract classes**: the first represents a set and basic insert/search operations on it. You will need to impement this API four times, to implement (1) sequential search, (2) binary search tree, (3) balanced search tree, and (4) bloom filter. The second defines the synthetic data generator you will need to implement as part of your experimental framework. <br><br>**Do NOT modify the next cell** - use the dedicated cells further below for your implementation instead. <br>"
   ]
  },
  {
   "cell_type": "code",
   "execution_count": 1,
   "metadata": {},
   "outputs": [],
   "source": [
    "# DO NOT MODIFY THIS CELL\n",
    "\n",
    "from abc import ABC, abstractmethod  \n",
    "\n",
    "# abstract class to represent a set and its insert/search operations\n",
    "class AbstractSet(ABC):\n",
    "    \n",
    "    # constructor\n",
    "    @abstractmethod\n",
    "    def __init__(self):\n",
    "        pass           \n",
    "        \n",
    "    # inserts \"element\" in the set\n",
    "    # returns \"True\" after successful insertion, \"False\" if the element is already in the set\n",
    "    # element : str\n",
    "    # inserted : bool\n",
    "    @abstractmethod\n",
    "    def insertElement(self, element):     \n",
    "        inserted = False\n",
    "        return inserted   \n",
    "    \n",
    "    # checks whether \"element\" is in the set\n",
    "    # returns \"True\" if it is, \"False\" otherwise\n",
    "    # element : str\n",
    "    # found : bool\n",
    "    @abstractmethod\n",
    "    def searchElement(self, element):\n",
    "        found = False\n",
    "        return found    \n",
    "    \n",
    "    \n",
    "    \n",
    "# abstract class to represent a synthetic data generator\n",
    "class AbstractTestDataGenerator(ABC):\n",
    "    \n",
    "    # constructor\n",
    "    @abstractmethod\n",
    "    def __init__(self):\n",
    "        pass           \n",
    "        \n",
    "    # creates and returns a list of length \"size\" of strings\n",
    "    # size : int\n",
    "    # data : list<str>\n",
    "    @abstractmethod\n",
    "    def generateData(self, size):     \n",
    "        data = [\"\"]*size\n",
    "        return data   \n"
   ]
  },
  {
   "cell_type": "markdown",
   "metadata": {},
   "source": [
    "Use the cell below to define any auxiliary data structure and python function you may need. Leave the implementation of the main API to the next code cells instead."
   ]
  },
  {
   "cell_type": "code",
   "execution_count": 2,
   "metadata": {},
   "outputs": [],
   "source": [
    "# ADD AUXILIARY DATA STRUCTURE DEFINITIONS AND HELPER CODE HERE\n",
    "\n"
   ]
  },
  {
   "cell_type": "markdown",
   "metadata": {},
   "source": [
    "Use the cell below to implement the requested API by means of **sequential search**."
   ]
  },
  {
   "cell_type": "code",
   "execution_count": 3,
   "metadata": {},
   "outputs": [],
   "source": [
    "class SequentialSearchSet(AbstractSet):\n",
    "    \n",
    "    def __init__(self):\n",
    "        # ADD YOUR CODE HERE\n",
    "\n",
    "        \n",
    "        pass           \n",
    "     \n",
    "    \n",
    "        \n",
    "    def insertElement(self, element):\n",
    "        inserted = False\n",
    "        # ADD YOUR CODE HERE\n",
    "      \n",
    "        \n",
    "        return inserted\n",
    "    \n",
    "    \n",
    "\n",
    "    def searchElement(self, element):     \n",
    "        found = False\n",
    "        # ADD YOUR CODE HERE\n",
    "\n",
    "        \n",
    "        return found    "
   ]
  },
  {
   "cell_type": "markdown",
   "metadata": {},
   "source": [
    "Use the cell below to implement the requested API by means of **binary search tree**."
   ]
  },
  {
   "cell_type": "code",
   "execution_count": 4,
   "metadata": {},
   "outputs": [],
   "source": [
    "class BinarySearchTreeSet(AbstractSet):\n",
    "    \n",
    "    def __init__(self):\n",
    "        # ADD YOUR CODE HERE\n",
    "\n",
    "        \n",
    "        pass           \n",
    "     \n",
    "    \n",
    "        \n",
    "    def insertElement(self, element):\n",
    "        inserted = False\n",
    "        # ADD YOUR CODE HERE\n",
    "      \n",
    "        \n",
    "        return inserted\n",
    "    \n",
    "    \n",
    "\n",
    "    def searchElement(self, element):     \n",
    "        found = False\n",
    "        # ADD YOUR CODE HERE\n",
    "\n",
    "        \n",
    "        return found    "
   ]
  },
  {
   "cell_type": "markdown",
   "metadata": {},
   "source": [
    "Use the cell below to implement the requested API by means of **balanced search tree**."
   ]
  },
  {
   "cell_type": "code",
   "execution_count": 5,
   "metadata": {},
   "outputs": [],
   "source": [
    "class BalancedSearchTreeSet(AbstractSet):\n",
    "    \n",
    "    def __init__(self):\n",
    "        # ADD YOUR CODE HERE\n",
    "\n",
    "        \n",
    "        pass           \n",
    "     \n",
    "    \n",
    "        \n",
    "    def insertElement(self, element):\n",
    "        inserted = False\n",
    "        # ADD YOUR CODE HERE\n",
    "      \n",
    "        \n",
    "        return inserted\n",
    "    \n",
    "    \n",
    "\n",
    "    def searchElement(self, element):     \n",
    "        found = False\n",
    "        # ADD YOUR CODE HERE\n",
    "\n",
    "        \n",
    "        return found    "
   ]
  },
  {
   "cell_type": "markdown",
   "metadata": {},
   "source": [
    "Use the cell below to implement the requested API by means of **bloom filter**."
   ]
  },
  {
   "cell_type": "code",
   "execution_count": 5,
   "outputs": [],
   "source": [
    "# reference: https://huagetai.github.io/posts/fcfde8ff/\n",
    "\n",
    "def murmurhash_32(key, seed=0, blocksize=64):\n",
    "    h = seed\n",
    "    constant1 = 0xcc9e2d51\n",
    "    constant2 = 0x1b873593\n",
    "    r1 = 15\n",
    "    r2 = 13\n",
    "    m = 5\n",
    "    n = 0xe6546b64\n",
    "    bits_32 = 0xffffffff\n",
    "    # Divide key into chunks of blocksize bits (default 64 bits) and iterate over each chunk\n",
    "    for chunk in [key[i:i+blocksize//8] for i in range(0, len(key), blocksize//8)]:\n",
    "        k = 0\n",
    "        for i, c in enumerate(chunk):\n",
    "            # Convert chunk into integer k by shifting bytes left by multiples of 8 bits\n",
    "            k |= ord(c) << (8 * i)\n",
    "        k *= 0xcc9e2d51\n",
    "        k &= bits_32  # Truncate k to 32 bits\n",
    "        k = (k << r1) | (k >> 32 - r1)  # Rotate k left by 15 bits and bitwise OR with k rotated right by 17 bits\n",
    "        k *= 0x1b873593\n",
    "        k &= bits_32\n",
    "        h ^= k  # XOR\n",
    "        h = (h << r2) | (h >> 32 - r2)\n",
    "        h = h * m + n\n",
    "        h &= bits_32\n",
    "    h ^= len(key)\n",
    "    h &= bits_32\n",
    "    h ^= h >> 16\n",
    "    h *= 0x85ebca6b\n",
    "    h &= bits_32\n",
    "    h ^= h >> 13\n",
    "    h *= 0xc2b2ae35\n",
    "    h &= bits_32\n",
    "    h ^= h >> 16\n",
    "    h &= bits_32\n",
    "    return h"
   ],
   "metadata": {
    "collapsed": false
   }
  },
  {
   "cell_type": "code",
   "execution_count": 6,
   "metadata": {},
   "outputs": [],
   "source": [
    "class BloomFilterSet(AbstractSet):\n",
    "    \n",
    "    def __init__(self):\n",
    "        # ADD YOUR CODE HERE\n",
    "\n",
    "        \n",
    "        pass           \n",
    "     \n",
    "    \n",
    "        \n",
    "    def insertElement(self, element):\n",
    "        inserted = False\n",
    "        # ADD YOUR CODE HERE\n",
    "      \n",
    "        \n",
    "        return inserted\n",
    "    \n",
    "    \n",
    "\n",
    "    def searchElement(self, element):     \n",
    "        found = False\n",
    "        # ADD YOUR CODE HERE\n",
    "\n",
    "        \n",
    "        return found\n"
   ]
  },
  {
   "cell_type": "markdown",
   "metadata": {},
   "source": [
    "Use the cell below to implement the **synthetic data generator** as part of your experimental framework."
   ]
  },
  {
   "cell_type": "code",
   "execution_count": 7,
   "metadata": {},
   "outputs": [],
   "source": [
    "import string\n",
    "import random\n",
    "\n",
    "class TestDataGenerator(AbstractTestDataGenerator):\n",
    "    \n",
    "    def __init__(self):\n",
    "        # ADD YOUR CODE HERE\n",
    "\n",
    "        \n",
    "        pass           \n",
    "        \n",
    "    def generateData(self, size):     \n",
    "        # ADD YOUR CODE HERE\n",
    "        data = [\"\"]*size\n",
    "        \n",
    "\n",
    "        return data   \n",
    "\n"
   ]
  },
  {
   "cell_type": "code",
   "execution_count": 2,
   "outputs": [],
   "source": [],
   "metadata": {
    "collapsed": false
   }
  },
  {
   "cell_type": "markdown",
   "metadata": {},
   "source": [
    "Use the cells below for the python code needed to **fully evaluate your implementations**, first on real data and subsequently on synthetic data (i.e., read data from test files / generate synthetic one, instantiate each of the 4 set implementations in turn, then thorouhgly experiment with insert/search operations and measure their performance)."
   ]
  },
  {
   "cell_type": "code",
   "execution_count": 8,
   "metadata": {},
   "outputs": [],
   "source": [
    "import timeit\n",
    "\n",
    "# ADD YOUR TEST CODE HERE TO WORK ON REAL DATA\n",
    "\n",
    "\n",
    "\n"
   ]
  },
  {
   "cell_type": "code",
   "execution_count": 9,
   "metadata": {},
   "outputs": [],
   "source": [
    "import timeit\n",
    "\n",
    "# ADD YOUR TEST CODE HERE TO WORK ON SYNTHETIC DATA\n",
    "\n",
    "\n",
    "\n"
   ]
  },
  {
   "cell_type": "code",
   "execution_count": null,
   "outputs": [],
   "source": [],
   "metadata": {
    "collapsed": false
   }
  },
  {
   "cell_type": "markdown",
   "source": [],
   "metadata": {
    "collapsed": false
   }
  },
  {
   "cell_type": "markdown",
   "source": [],
   "metadata": {
    "collapsed": false
   }
  },
  {
   "cell_type": "code",
   "execution_count": null,
   "outputs": [],
   "source": [],
   "metadata": {
    "collapsed": false
   }
  }
 ],
 "metadata": {
  "kernelspec": {
   "display_name": "Python 3",
   "language": "python",
   "name": "python3"
  },
  "language_info": {
   "codemirror_mode": {
    "name": "ipython",
    "version": 3
   },
   "file_extension": ".py",
   "mimetype": "text/x-python",
   "name": "python",
   "nbconvert_exporter": "python",
   "pygments_lexer": "ipython3",
   "version": "3.9.5"
  }
 },
 "nbformat": 4,
 "nbformat_minor": 4
}
