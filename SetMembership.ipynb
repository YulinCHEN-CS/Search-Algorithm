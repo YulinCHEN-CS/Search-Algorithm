{
 "cells": [
  {
   "cell_type": "markdown",
   "metadata": {},
   "source": [
    "# Set Membership"
   ]
  },
  {
   "cell_type": "markdown",
   "metadata": {},
   "source": [
    "The cell below defines two **abstract classes**: the first represents a set and basic insert/search operations on it. You will need to impement this API four times, to implement (1) sequential search, (2) binary search tree, (3) balanced search tree, and (4) bloom filter. The second defines the synthetic data generator you will need to implement as part of your experimental framework. <br><br>**Do NOT modify the next cell** - use the dedicated cells further below for your implementation instead. <br>"
   ]
  },
  {
   "cell_type": "code",
   "execution_count": 192,
   "metadata": {},
   "outputs": [],
   "source": [
    "# DO NOT MODIFY THIS CELL\n",
    "\n",
    "from abc import ABC, abstractmethod  \n",
    "\n",
    "# abstract class to represent a set and its insert/search operations\n",
    "class AbstractSet(ABC):\n",
    "    \n",
    "    # constructor\n",
    "    @abstractmethod\n",
    "    def __init__(self):\n",
    "        pass           \n",
    "        \n",
    "    # inserts \"element\" in the set\n",
    "    # returns \"True\" after successful insertion, \"False\" if the element is already in the set\n",
    "    # element : str\n",
    "    # inserted : bool\n",
    "    @abstractmethod\n",
    "    def insertElement(self, element):     \n",
    "        inserted = False\n",
    "        return inserted   \n",
    "    \n",
    "    # checks whether \"element\" is in the set\n",
    "    # returns \"True\" if it is, \"False\" otherwise\n",
    "    # element : str\n",
    "    # found : bool\n",
    "    @abstractmethod\n",
    "    def searchElement(self, element):\n",
    "        found = False\n",
    "        return found    \n",
    "    \n",
    "    \n",
    "    \n",
    "# abstract class to represent a synthetic data generator\n",
    "class AbstractTestDataGenerator(ABC):\n",
    "    \n",
    "    # constructor\n",
    "    @abstractmethod\n",
    "    def __init__(self):\n",
    "        pass           \n",
    "        \n",
    "    # creates and returns a list of length \"size\" of strings\n",
    "    # size : int\n",
    "    # data : list<str>\n",
    "    @abstractmethod\n",
    "    def generateData(self, size):     \n",
    "        data = [\"\"]*size\n",
    "        return data   \n"
   ]
  },
  {
   "cell_type": "markdown",
   "metadata": {},
   "source": [
    "Use the cell below to define any auxiliary data structure and python function you may need. Leave the implementation of the main API to the next code cells instead."
   ]
  },
  {
   "cell_type": "code",
   "execution_count": 193,
   "metadata": {},
   "outputs": [],
   "source": [
    "# ADD AUXILIARY DATA STRUCTURE DEFINITIONS AND HELPER CODE HERE\n",
    "class Node:\n",
    "    def __init__(self, val):\n",
    "        self.val = val\n",
    "        self.next = None\n",
    "\n",
    "class LinkedList:\n",
    "    def __init__(self):\n",
    "        self.head = None\n",
    "\n",
    "    def show(self):\n",
    "        current = self.head\n",
    "        while(current is not None):\n",
    "            print(current.val)\n",
    "            current = current.next    "
   ]
  },
  {
   "cell_type": "markdown",
   "metadata": {},
   "source": [
    "Use the cell below to implement the requested API by means of **sequential search**."
   ]
  },
  {
   "cell_type": "code",
   "execution_count": 194,
   "metadata": {},
   "outputs": [],
   "source": [
    "class SequentialSearchSet(AbstractSet):\n",
    "    \n",
    "    def __init__(self):   \n",
    "        self.set = LinkedList()\n",
    "        \n",
    "    def insertElement(self, element):\n",
    "        inserted = False\n",
    "        current = self.set.head\n",
    "\n",
    "        # case 1: insert to empty linkedlist\n",
    "        if current is None:\n",
    "            self.set.head = Node(element)\n",
    "        # case 2: insert to head of linkedlist\n",
    "        elif current.val > element:\n",
    "            newNode = Node(element)\n",
    "            newNode.next = self.set.head\n",
    "            self.set.head = newNode\n",
    "        # case 3: insert to somewhere else in the linkedlist\n",
    "        else:\n",
    "            while(current.next is not None and current.next.val <= element):\n",
    "                current = current.next\n",
    "            if current.val == element:\n",
    "                return inserted\n",
    "            else:\n",
    "                newNode = Node(element)\n",
    "                newNode.next = current.next\n",
    "                current.next = newNode\n",
    "\n",
    "        inserted = True\n",
    "        return inserted\n",
    "\n",
    "\n",
    "    def searchElement(self, element):     \n",
    "        found = False\n",
    "        if self.set is None:\n",
    "            return found\n",
    "        else:\n",
    "            current = self.set.head\n",
    "            while(current is not None):\n",
    "                if current.val == element:\n",
    "                    found = True\n",
    "                    return found\n",
    "                current = current.next\n",
    "\n",
    "        return found    "
   ]
  },
  {
   "attachments": {},
   "cell_type": "markdown",
   "metadata": {},
   "source": [
    "Dash: just for testing so i'll remove these cells later"
   ]
  },
  {
   "cell_type": "code",
   "execution_count": null,
   "metadata": {},
   "outputs": [],
   "source": [
    "f = open(\"test2-warpeace.txt\", \"r\")\n",
    "test = SequentialSearchSet()\n",
    "for line in f:\n",
    "    for word in line.split():\n",
    "        test.insertElement(word)\n",
    "test.set.show()\n",
    "f.close()"
   ]
  },
  {
   "cell_type": "code",
   "execution_count": null,
   "metadata": {},
   "outputs": [],
   "source": [
    "f = open(\"test-search.txt\", \"r\")\n",
    "for word in f:\n",
    "    target = word.strip()\n",
    "    if(test.searchElement(target)):\n",
    "        print(target + \" ✓\")\n",
    "    else:\n",
    "        print(target + \" ✕\")"
   ]
  },
  {
   "cell_type": "markdown",
   "metadata": {},
   "source": [
    "Use the cell below to implement the requested API by means of **binary search tree**."
   ]
  },
  {
   "cell_type": "code",
   "execution_count": 4,
   "metadata": {},
   "outputs": [],
   "source": [
    "class BinarySearchTreeSet(AbstractSet):\n",
    "    \n",
    "    def __init__(self):\n",
    "        # ADD YOUR CODE HERE\n",
    "\n",
    "        \n",
    "        pass           \n",
    "     \n",
    "    \n",
    "        \n",
    "    def insertElement(self, element):\n",
    "        inserted = False\n",
    "        # ADD YOUR CODE HERE\n",
    "      \n",
    "        \n",
    "        return inserted\n",
    "    \n",
    "    \n",
    "\n",
    "    def searchElement(self, element):     \n",
    "        found = False\n",
    "        # ADD YOUR CODE HERE\n",
    "\n",
    "        \n",
    "        return found    "
   ]
  },
  {
   "cell_type": "markdown",
   "metadata": {},
   "source": [
    "Use the cell below to implement the requested API by means of **balanced search tree**."
   ]
  },
  {
   "cell_type": "code",
   "execution_count": 5,
   "metadata": {},
   "outputs": [],
   "source": [
    "class BalancedSearchTreeSet(AbstractSet):\n",
    "    \n",
    "    def __init__(self):\n",
    "        # ADD YOUR CODE HERE\n",
    "\n",
    "        \n",
    "        pass           \n",
    "     \n",
    "    \n",
    "        \n",
    "    def insertElement(self, element):\n",
    "        inserted = False\n",
    "        # ADD YOUR CODE HERE\n",
    "      \n",
    "        \n",
    "        return inserted\n",
    "    \n",
    "    \n",
    "\n",
    "    def searchElement(self, element):     \n",
    "        found = False\n",
    "        # ADD YOUR CODE HERE\n",
    "\n",
    "        \n",
    "        return found    "
   ]
  },
  {
   "cell_type": "markdown",
   "metadata": {},
   "source": [
    "Use the cell below to implement the requested API by means of **bloom filter**."
   ]
  },
  {
   "cell_type": "code",
   "execution_count": 6,
   "metadata": {},
   "outputs": [],
   "source": [
    "from bitarray import bitarray\n",
    "\n",
    "# calculate natural logarithm\n",
    "def ln(x):\n",
    "    n = 1000.0\n",
    "    return n * ((x ** (1/n)) - 1)\n",
    "\n",
    "# get size of bitarray\n",
    "def get_size(num_of_items, fp_prob):\n",
    "        size = -(num_of_items * ln(fp_prob)) / (ln(2) ** 2)\n",
    "        return int(size)\n",
    "\n",
    "# get number of hash function to be used\n",
    "def get_hash_num(bitarray_size, num_of_items):\n",
    "    hash_num = (bitarray_size / num_of_items) * ln(2)\n",
    "    return int(hash_num)\n",
    "\n",
    "# Murmurhash3 32bits version\n",
    "# reference: https://huagetai.github.io/posts/fcfde8ff/\n",
    "def murmurhash_32(key, seed=0, blocksize=64):\n",
    "    h = seed\n",
    "    constant1 = 0xcc9e2d51\n",
    "    constant2 = 0x1b873593\n",
    "    r1 = 15\n",
    "    r2 = 13\n",
    "    m = 5\n",
    "    n = 0xe6546b64\n",
    "    bits_32 = 0xffffffff\n",
    "    # Divide key into chunks of blocksize bits (default 64 bits) and iterate over each chunk\n",
    "    for chunk in [key[i:i+blocksize//8] for i in range(0, len(key), blocksize//8)]:\n",
    "        k = 0\n",
    "        for i, c in enumerate(chunk):\n",
    "            # Convert chunk into integer k by shifting bytes left by multiples of 8 bits\n",
    "            k |= ord(c) << (8 * i)\n",
    "        k *= constant1\n",
    "        k &= bits_32  # Truncate k to 32 bits\n",
    "        k = (k << r1) | (k >> 32 - r1)  # Rotate k left by 15 bits and bitwise OR with k rotated right by 17 bits\n",
    "        k *= constant2\n",
    "        k &= bits_32\n",
    "        h ^= k  # XOR\n",
    "        h = (h << r2) | (h >> 32 - r2)\n",
    "        h = h * m + n\n",
    "        h &= bits_32\n",
    "    h ^= len(key)\n",
    "    h &= bits_32\n",
    "    h ^= h >> 16\n",
    "    h *= 0x85ebca6b\n",
    "    h &= bits_32\n",
    "    h ^= h >> 13\n",
    "    h *= 0xc2b2ae35\n",
    "    h &= bits_32\n",
    "    h ^= h >> 16\n",
    "    h &= bits_32\n",
    "    return h\n",
    "\n",
    "\n",
    "\n",
    "class BloomFilterSet(AbstractSet):\n",
    "    \n",
    "    def __init__(self, num_of_items, fp_prob = 0.05):\n",
    "        # ADD YOUR CODE HERE\n",
    "        self.size = get_size(num_of_items, fp_prob)\n",
    "        self.hash_num = get_hash_num(self.size, num_of_items)\n",
    "        self.bit_array = bitarray(self.size)\n",
    "        self.bit_array.setall(0)\n",
    "\n",
    "\n",
    "\n",
    "\n",
    "    def insertElement(self, element):\n",
    "        inserted = False\n",
    "        # ADD YOUR CODE HERE\n",
    "        for i in range(self.hash_num):\n",
    "            val_of_hash = murmurhash_32(element, i) % self.size\n",
    "            if self.bit_array[val_of_hash] == 0:\n",
    "                inserted = True\n",
    "                self.bit_array[val_of_hash] = 1\n",
    "        return inserted\n",
    "    \n",
    "    \n",
    "\n",
    "    def searchElement(self, element):     \n",
    "        found = False\n",
    "        # ADD YOUR CODE HERE\n",
    "        for i in range(self.hash_num):\n",
    "            val_of_hash = murmurhash_32(element, i) % self.size\n",
    "            if self.bit_array[val_of_hash] == 0:\n",
    "                return found\n",
    "        found = True\n",
    "        return found"
   ]
  },
  {
   "cell_type": "code",
   "execution_count": null,
   "metadata": {},
   "outputs": [],
   "source": [
    "import random\n",
    "word_present = ['abound','abounds','abundance','abundant','accessible',\n",
    "                'bloom','blossom','bolster','bonny','bonus','bonuses',\n",
    "                'coherent','cohesive','colorful','comely','comfort',\n",
    "                'gems','generosity','generous','generously','genial']\n",
    "\n",
    "word_absent = ['bluff','cheater','hate','war','humanity',\n",
    "               'racism','hurt','nuke','gloomy','facebook',\n",
    "               'geeksforgeeks','twitter']\n",
    "\n",
    "bloom_filter = BloomFilterSet(len(word_present))\n",
    "for word in word_present:\n",
    "    bloom_filter.insertElement(word)\n",
    "random.shuffle(word_present)\n",
    "random.shuffle(word_absent)\n",
    "test_words = word_present[:10] + word_absent\n",
    "random.shuffle(test_words)\n",
    "for word in test_words:\n",
    "    if bloom_filter.searchElement(word):\n",
    "        if word in word_absent:\n",
    "            print(\"'{}' is a false positive!\".format(word))\n",
    "        else:\n",
    "            print(\"'{}' is probably present!\".format(word))\n",
    "    else:\n",
    "        print(\"'{}' is definitely not present!\".format(word))"
   ]
  },
  {
   "cell_type": "markdown",
   "metadata": {},
   "source": [
    "Use the cell below to implement the **synthetic data generator** as part of your experimental framework."
   ]
  },
  {
   "cell_type": "code",
   "execution_count": 7,
   "metadata": {},
   "outputs": [],
   "source": [
    "import string\n",
    "import random\n",
    "\n",
    "class TestDataGenerator(AbstractTestDataGenerator):\n",
    "    \n",
    "    def __init__(self):\n",
    "        # ADD YOUR CODE HERE\n",
    "        \n",
    "        \n",
    "        pass           \n",
    "        \n",
    "    def generateData(self, size):     \n",
    "        # ADD YOUR CODE HERE\n",
    "        data = [\"\"]*size\n",
    "        \n",
    "\n",
    "        return data   \n",
    "\n"
   ]
  },
  {
   "cell_type": "markdown",
   "metadata": {},
   "source": [
    "Use the cells below for the python code needed to **fully evaluate your implementations**, first on real data and subsequently on synthetic data (i.e., read data from test files / generate synthetic one, instantiate each of the 4 set implementations in turn, then thorouhgly experiment with insert/search operations and measure their performance)."
   ]
  },
  {
   "cell_type": "code",
   "execution_count": 8,
   "metadata": {},
   "outputs": [],
   "source": [
    "import timeit\n",
    "\n",
    "# ADD YOUR TEST CODE HERE TO WORK ON REAL DATA\n",
    "\n",
    "\n",
    "\n"
   ]
  },
  {
   "cell_type": "code",
   "execution_count": 9,
   "metadata": {},
   "outputs": [],
   "source": [
    "import timeit\n",
    "\n",
    "# ADD YOUR TEST CODE HERE TO WORK ON SYNTHETIC DATA\n",
    "\n",
    "\n",
    "\n"
   ]
  },
  {
   "cell_type": "code",
   "execution_count": null,
   "metadata": {
    "collapsed": false
   },
   "outputs": [],
   "source": []
  },
  {
   "cell_type": "markdown",
   "metadata": {
    "collapsed": false
   },
   "source": []
  },
  {
   "cell_type": "markdown",
   "metadata": {
    "collapsed": false
   },
   "source": []
  },
  {
   "cell_type": "code",
   "execution_count": null,
   "metadata": {
    "collapsed": false
   },
   "outputs": [],
   "source": []
  }
 ],
 "metadata": {
  "kernelspec": {
   "display_name": "Python 3",
   "language": "python",
   "name": "python3"
  },
  "language_info": {
   "codemirror_mode": {
    "name": "ipython",
    "version": 3
   },
   "file_extension": ".py",
   "mimetype": "text/x-python",
   "name": "python",
   "nbconvert_exporter": "python",
   "pygments_lexer": "ipython3",
   "version": "3.10.8"
  },
  "vscode": {
   "interpreter": {
    "hash": "aee8b7b246df8f9039afb4144a1f6fd8d2ca17a180786b69acc140d282b71a49"
   }
  }
 },
 "nbformat": 4,
 "nbformat_minor": 4
}
