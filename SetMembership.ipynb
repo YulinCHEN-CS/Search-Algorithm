{
 "cells": [
  {
   "cell_type": "markdown",
   "metadata": {},
   "source": [
    "# Set Membership"
   ]
  },
  {
   "cell_type": "markdown",
   "metadata": {},
   "source": [
    "The cell below defines two **abstract classes**: the first represents a set and basic insert/search operations on it. You will need to impement this API four times, to implement (1) sequential search, (2) binary search tree, (3) balanced search tree, and (4) bloom filter. The second defines the synthetic data generator you will need to implement as part of your experimental framework. <br><br>**Do NOT modify the next cell** - use the dedicated cells further below for your implementation instead. <br>"
   ]
  },
  {
   "cell_type": "code",
   "execution_count": 1,
   "metadata": {},
   "outputs": [],
   "source": [
    "# DO NOT MODIFY THIS CELL\n",
    "\n",
    "from abc import ABC, abstractmethod  \n",
    "\n",
    "# abstract class to represent a set and its insert/search operations\n",
    "class AbstractSet(ABC):\n",
    "    \n",
    "    # constructor\n",
    "    @abstractmethod\n",
    "    def __init__(self):\n",
    "        pass           \n",
    "        \n",
    "    # inserts \"element\" in the set\n",
    "    # returns \"True\" after successful insertion, \"False\" if the element is already in the set\n",
    "    # element : str\n",
    "    # inserted : bool\n",
    "    @abstractmethod\n",
    "    def insertElement(self, element):     \n",
    "        inserted = False\n",
    "        return inserted   \n",
    "    \n",
    "    # checks whether \"element\" is in the set\n",
    "    # returns \"True\" if it is, \"False\" otherwise\n",
    "    # element : str\n",
    "    # found : bool\n",
    "    @abstractmethod\n",
    "    def searchElement(self, element):\n",
    "        found = False\n",
    "        return found    \n",
    "    \n",
    "    \n",
    "    \n",
    "# abstract class to represent a synthetic data generator\n",
    "class AbstractTestDataGenerator(ABC):\n",
    "    \n",
    "    # constructor\n",
    "    @abstractmethod\n",
    "    def __init__(self):\n",
    "        pass           \n",
    "        \n",
    "    # creates and returns a list of length \"size\" of strings\n",
    "    # size : int\n",
    "    # data : list<str>\n",
    "    @abstractmethod\n",
    "    def generateData(self, size):     \n",
    "        data = [\"\"]*size\n",
    "        return data   \n"
   ]
  },
  {
   "cell_type": "markdown",
   "metadata": {},
   "source": [
    "Use the cell below to define any auxiliary data structure and python function you may need. Leave the implementation of the main API to the next code cells instead."
   ]
  },
  {
   "cell_type": "code",
   "execution_count": 5,
   "metadata": {},
   "outputs": [],
   "source": [
    "# ADD AUXILIARY DATA STRUCTURE DEFINITIONS AND HELPER CODE HERE\n",
    "class Node:\n",
    "    def __init__(self, val):\n",
    "        self.val = val\n",
    "        self.next = None\n",
    "\n",
    "class LinkedList:\n",
    "    def __init__(self):\n",
    "        self.head = None\n",
    "\n",
    "    def show(self):\n",
    "        current = self.head\n",
    "        while(current is not None):\n",
    "            print(current.val)\n",
    "            current = current.next    "
   ]
  },
  {
   "cell_type": "markdown",
   "metadata": {},
   "source": [
    "Use the cell below to implement the requested API by means of **sequential search**."
   ]
  },
  {
   "cell_type": "code",
   "execution_count": 3,
   "metadata": {},
   "outputs": [],
   "source": [
    "class SequentialSearchSet(AbstractSet):\n",
    "    \n",
    "    def __init__(self):   \n",
    "        self.set = LinkedList()\n",
    "        \n",
    "    def insertElement(self, element):\n",
    "        inserted = False\n",
    "        current = self.set.head\n",
    "\n",
    "        # case 1: insert to empty linkedlist\n",
    "        if current is None:\n",
    "            self.set.head = Node(element)\n",
    "        # case 2: insert to head of linkedlist\n",
    "        elif current.val > element:\n",
    "            newNode = Node(element)\n",
    "            newNode.next = self.set.head\n",
    "            self.set.head = newNode\n",
    "        # case 3: insert to somewhere else in the linkedlist\n",
    "        else:\n",
    "            while(current.next is not None and current.next.val <= element):\n",
    "                current = current.next\n",
    "            if current.val == element:\n",
    "                return inserted\n",
    "            else:\n",
    "                newNode = Node(element)\n",
    "                newNode.next = current.next\n",
    "                current.next = newNode\n",
    "\n",
    "        inserted = True\n",
    "        return inserted\n",
    "\n",
    "\n",
    "    def searchElement(self, element):     \n",
    "        found = False\n",
    "        if self.set is None:\n",
    "            return found\n",
    "        else:\n",
    "            current = self.set.head\n",
    "            while(current is not None):\n",
    "                if current.val == element:\n",
    "                    found = True\n",
    "                    return found\n",
    "                current = current.next\n",
    "\n",
    "        return found    "
   ]
  },
  {
   "cell_type": "markdown",
   "metadata": {},
   "source": [
    "Dash: just for testing so i'll remove these cells later"
   ]
  },
  {
   "cell_type": "code",
   "execution_count": null,
   "metadata": {
    "pycharm": {
     "is_executing": true
    }
   },
   "outputs": [],
   "source": [
    "f = open(\"test2-warpeace.txt\", \"r\")\n",
    "test = SequentialSearchSet()\n",
    "for line in f:\n",
    "    for word in line.split():\n",
    "        test.insertElement(word)\n",
    "test.set.show()\n",
    "f.close()"
   ]
  },
  {
   "cell_type": "code",
   "execution_count": null,
   "metadata": {},
   "outputs": [],
   "source": [
    "f = open(\"test-search.txt\", \"r\")\n",
    "for word in f:\n",
    "    target = word.strip()\n",
    "    if(test.searchElement(target)):\n",
    "        print(target + \" ✓\")\n",
    "    else:\n",
    "        print(target + \" ✕\")"
   ]
  },
  {
   "cell_type": "markdown",
   "metadata": {},
   "source": [
    "Use the cell below to implement the requested API by means of **binary search tree**."
   ]
  },
  {
   "cell_type": "code",
   "execution_count": 19,
   "metadata": {},
   "outputs": [],
   "source": [
    "class BSNode:\n",
    "    def __init__(self, element):\n",
    "        self.element = element\n",
    "        self.left = None\n",
    "        self.right = None\n",
    "\n",
    "class BinarySearchTreeSet:\n",
    "\n",
    "    def __init__(self):\n",
    "        self.root = None\n",
    "\n",
    "    def insertElement(self, element):\n",
    "        inserted = False\n",
    "        if self.root == None:\n",
    "            self.root = BSNode(element)\n",
    "        else:\n",
    "            current = self.root\n",
    "            while 1:\n",
    "                if element < current.element:\n",
    "                    if current.left:\n",
    "                        current = current.left\n",
    "                    else:\n",
    "                        current.left = BSNode(element)\n",
    "                        break\n",
    "                elif element > current.element:\n",
    "                    if current.right:\n",
    "                        current = current.right\n",
    "                    else:\n",
    "                        current.right = BSNode(element)\n",
    "                        break\n",
    "                else:\n",
    "                    break\n",
    "        inserted = True\n",
    "        return inserted\n",
    "\n",
    "    def searchElement(self, element):\n",
    "        if self.root == None:\n",
    "            return False\n",
    "        else:\n",
    "            current = self.root\n",
    "            while current != None:\n",
    "                if element == current.element:\n",
    "                    return True\n",
    "                elif element < current.element:\n",
    "                    current = current.left\n",
    "                else:\n",
    "                    current = current.right\n",
    "            return False"
   ]
  },
  {
   "cell_type": "markdown",
   "metadata": {},
   "source": [
    "Use the cell below to implement the requested API by means of **balanced search tree**.\n",
    "\n",
    "# Red Black Balanced Search Tree\n",
    "-------------------------------------\n",
    "\n",
    "The `RBTree` class provides an implementation of a Red Black tree with an `insert` method to add new nodes. The class also contains several helper methods to fix the tree if necessary after a new node is inserted.\n",
    "\n",
    "The `insertElement` method works as follows:\n",
    "\n",
    "1. If the tree is empty, the new node is inserted as the root and coloured black.\n",
    "2. Otherwise, the tree is searched for the proper location to insert the new node, following the rules of a binary search tree.\n",
    "3. After inserting the new node, the `_fix_tree` method is called to ensure that the Red Black tree properties are maintained.\n",
    "\n",
    "The `_fix_tree` method is responsible for checking and correcting any violations of the Red Black tree properties. It follows a series of cases to determine what rotation(s) and colour changes, if any, are necessary to fix the tree.\n",
    "\n",
    "The `_rotate_left` and `_rotate_right` methods are helper methods used by `_fix_tree` to perform left and right rotations, respectively, on the tree.\n",
    "\n",
    "Together, these methods provide a working implementation of a Red Black tree with an insert method that maintains the Red Black tree properties."
   ]
  },
  {
   "cell_type": "code",
   "execution_count": 6,
   "metadata": {},
   "outputs": [],
   "source": [
    "RED = True\n",
    "BLACK = False\n",
    "\n",
    "# Node class\n",
    "class RBNode: # DID NOT ADD TO MAIN NODE CLASS AS THIS REQUIRES MORE ATTRIBUTES\n",
    "    def __init__(self, value, colour=RED):\n",
    "        self.value = value\n",
    "        self.colour = colour\n",
    "        self.left = None # left child\n",
    "        self.right = None # right child\n",
    "        self.parent = None\n",
    "\n",
    "    def __repr__(self):\n",
    "        return f\"{self.value}({self.colour})\"\n",
    "\n",
    "    def __iter__(self):\n",
    "        if self.left:\n",
    "            yield from self.left\n",
    "        yield self.value\n",
    "        if self.right:\n",
    "            yield from self.right\n",
    "\n",
    "    def grandparent(self):\n",
    "        if self.parent:\n",
    "            return self.parent.parent\n",
    "\n",
    "    def uncle(self):\n",
    "        if self.grandparent():\n",
    "            if self.grandparent().left == self.parent:\n",
    "                return self.grandparent().right\n",
    "            else:\n",
    "                return self.grandparent().left\n",
    "\n",
    "    def sibling(self):\n",
    "        if self.parent:\n",
    "            if self.parent.left == self:\n",
    "                return self.parent.right\n",
    "            else:\n",
    "                return self.parent.left\n",
    "\n",
    "\n",
    "# Red Black Tree class\n",
    "class BalancedSearchTreeSet(AbstractSet):\n",
    "    \n",
    "    def __init__(self):\n",
    "        self.root = None\n",
    "\n",
    "    def __repr__(self):\n",
    "        return str([v for v in self])\n",
    "\n",
    "    def __iter__(self):\n",
    "        if self.root:\n",
    "            yield from self.root\n",
    "\n",
    "    def __contains__(self, value):\n",
    "        if self.root is None:\n",
    "            return False\n",
    "        else:\n",
    "            current = self.root\n",
    "            while True:\n",
    "                if value == current.value:\n",
    "                    return True\n",
    "                elif value < current.value:\n",
    "                    if current.left is None:\n",
    "                        return False\n",
    "                    else:\n",
    "                        current = current.left\n",
    "                else:\n",
    "                    if current.right is None:\n",
    "                        return False\n",
    "                    else:\n",
    "                        current = current.right\n",
    "\n",
    "        \n",
    "    def insertElement(self, element):\n",
    "        inserted = True\n",
    "\n",
    "        node = RBNode(element)\n",
    "        if self.root is None:\n",
    "            self.root = node\n",
    "            self.root.colour = BLACK\n",
    "        else:\n",
    "            current = self.root\n",
    "            while True:\n",
    "                if node.value < current.value:\n",
    "                    if current.left is None:\n",
    "                        current.left = node\n",
    "                        node.parent = current\n",
    "                        break\n",
    "                    else:\n",
    "                        current = current.left\n",
    "\n",
    "                elif node.value == current.value:\n",
    "                    inserted = False\n",
    "                    break\n",
    "\n",
    "                else:\n",
    "                    if current.right is None:\n",
    "                        current.right = node\n",
    "                        node.parent = current\n",
    "                        break\n",
    "                    else:\n",
    "                        current = current.right\n",
    "\n",
    "            self._fixup(node)\n",
    "        \n",
    "        return inserted\n",
    "    \n",
    "    def _fixup(self, node : RBNode):\n",
    "        # case 1: node is root\n",
    "        if node.parent is None:\n",
    "            node.colour = BLACK\n",
    "            return\n",
    "\n",
    "        # case 2: parent is black\n",
    "        if node.parent.colour == BLACK:\n",
    "            return\n",
    "\n",
    "        # case 3: parent and uncle are red\n",
    "        if node.uncle() and node.uncle().colour == RED:\n",
    "            node.parent.colour = BLACK\n",
    "            node.uncle().colour = BLACK\n",
    "            node.grandparent().colour = RED\n",
    "            self._fixup(node.grandparent())\n",
    "            return\n",
    "\n",
    "        # case 4: parent is red, uncle is black\n",
    "        else:\n",
    "            # case 4a: node is right child, parent is left child\n",
    "            if node.parent.right == node and node.grandparent().left == node.parent:\n",
    "                self._rotate_left(node.parent)\n",
    "                node = node.left\n",
    "\n",
    "            # case 4b: node is left child, parent is right child\n",
    "            elif node.parent.left == node and node.grandparent().right == node.parent:\n",
    "                self._rotate_right(node.parent)\n",
    "                node = node.right\n",
    "\n",
    "            # case 5: node is left child, parent is left child or node is right child, parent is right child\n",
    "            node.parent.colour = BLACK\n",
    "            node.grandparent().colour = RED\n",
    "            if node.parent.left == node and node.grandparent().left == node.parent:\n",
    "                self._rotate_right(node.grandparent())\n",
    "            else:\n",
    "                self._rotate_left(node.grandparent())\n",
    "\n",
    "\n",
    "    def _rotate_left(self, node: RBNode):\n",
    "        new_parent = node.right\n",
    "        node.right = new_parent.left\n",
    "        if new_parent.left:\n",
    "            new_parent.left.parent = node\n",
    "        new_parent.parent = node.parent\n",
    "        if node.parent is None:\n",
    "            self.root = new_parent\n",
    "        elif node == node.parent.left:\n",
    "            node.parent.left = new_parent\n",
    "        else:\n",
    "            node.parent.right = new_parent\n",
    "        new_parent.left = node\n",
    "        node.parent = new_parent\n",
    "\n",
    "    def _rotate_right(self, node: RBNode):\n",
    "        new_parent = node.left\n",
    "        node.left = new_parent.right\n",
    "        if new_parent.right:\n",
    "            new_parent.right.parent = node\n",
    "        new_parent.parent = node.parent\n",
    "        if node.parent is None:\n",
    "            self.root = new_parent\n",
    "        elif node == node.parent.left:\n",
    "            node.parent.left = new_parent\n",
    "        else:\n",
    "            node.parent.right = new_parent\n",
    "        new_parent.right = node\n",
    "        node.parent = new_parent\n",
    "\n",
    "    def searchElement(self, element):     \n",
    "        return element in self"
   ]
  },
  {
   "cell_type": "markdown",
   "metadata": {},
   "source": [
    "Use the cell below to implement the requested API by means of **bloom filter**."
   ]
  },
  {
   "cell_type": "code",
   "execution_count": 7,
   "metadata": {},
   "outputs": [],
   "source": [
    "from bitarray import bitarray\n",
    "\n",
    "# calculate natural logarithm\n",
    "def ln(x):\n",
    "    n = 1000.0\n",
    "    return n * ((x ** (1/n)) - 1)\n",
    "\n",
    "# get size of bitarray\n",
    "def get_size(num_of_items, fp_prob):\n",
    "        size = -(num_of_items * ln(fp_prob)) / (ln(2) ** 2)\n",
    "        return int(size)\n",
    "\n",
    "# get number of hash function to be used\n",
    "def get_hash_num(bitarray_size, num_of_items):\n",
    "    hash_num = (bitarray_size / num_of_items) * ln(2)\n",
    "    return int(hash_num)\n",
    "\n",
    "# Murmurhash3 32bits version\n",
    "# reference: https://huagetai.github.io/posts/fcfde8ff/\n",
    "def murmurhash_32(key, seed=0, blocksize=64):\n",
    "    h = seed\n",
    "    constant1 = 0xcc9e2d51\n",
    "    constant2 = 0x1b873593\n",
    "    r1 = 15\n",
    "    r2 = 13\n",
    "    m = 5\n",
    "    n = 0xe6546b64\n",
    "    bits_32 = 0xffffffff\n",
    "    # Divide key into chunks of blocksize bits (default 64 bits) and iterate over each chunk\n",
    "    for chunk in [key[i:i+blocksize//8] for i in range(0, len(key), blocksize//8)]:\n",
    "        k = 0\n",
    "        for i, c in enumerate(chunk):\n",
    "            # Convert chunk into integer k by shifting bytes left by multiples of 8 bits\n",
    "            k |= ord(c) << (8 * i)\n",
    "        k *= constant1\n",
    "        k &= bits_32  # Truncate k to 32 bits\n",
    "        k = (k << r1) | (k >> 32 - r1)  # Rotate k left by 15 bits and bitwise OR with k rotated right by 17 bits\n",
    "        k *= constant2\n",
    "        k &= bits_32\n",
    "        h ^= k  # XOR\n",
    "        h = (h << r2) | (h >> 32 - r2)\n",
    "        h = h * m + n\n",
    "        h &= bits_32\n",
    "    h ^= len(key)\n",
    "    h &= bits_32\n",
    "    h ^= h >> 16\n",
    "    h *= 0x85ebca6b\n",
    "    h &= bits_32\n",
    "    h ^= h >> 13\n",
    "    h *= 0xc2b2ae35\n",
    "    h &= bits_32\n",
    "    h ^= h >> 16\n",
    "    h &= bits_32\n",
    "    return h\n",
    "\n",
    "\n",
    "\n",
    "class BloomFilterSet(AbstractSet):\n",
    "    \n",
    "    def __init__(self):\n",
    "        # ADD YOUR CODE HERE\n",
    "        self.size = 0\n",
    "        self.hash_num = 0\n",
    "        self.bit_array = bitarray()\n",
    "\n",
    "    def create_bloom_filter(self, num_of_items=800000, fp_prob=0.05):\n",
    "        self.size = get_size(num_of_items, fp_prob)\n",
    "        self.hash_num = get_hash_num(self.size, num_of_items)\n",
    "        self.bit_array = bitarray(self.size)\n",
    "        self.bit_array.setall(0)\n",
    "\n",
    "    def insertElement(self, element):\n",
    "        inserted = False\n",
    "        # ADD YOUR CODE HERE\n",
    "        for i in range(self.hash_num):\n",
    "            val_of_hash = murmurhash_32(element, i) % self.size\n",
    "            if self.bit_array[val_of_hash] == 0:\n",
    "                inserted = True\n",
    "                self.bit_array[val_of_hash] = 1\n",
    "        return inserted\n",
    "    \n",
    "    \n",
    "\n",
    "    def searchElement(self, element):     \n",
    "        found = False\n",
    "        # ADD YOUR CODE HERE\n",
    "        for i in range(self.hash_num):\n",
    "            val_of_hash = murmurhash_32(element, i) % self.size\n",
    "            if self.bit_array[val_of_hash] == 0:\n",
    "                return found\n",
    "        found = True\n",
    "        return found"
   ]
  },
  {
   "cell_type": "code",
   "execution_count": 8,
   "metadata": {},
   "outputs": [],
   "source": [
    "import string\n",
    "import random\n",
    "\n",
    "class TestDataGenerator(AbstractTestDataGenerator):\n",
    "    \n",
    "    def __init__(self):\n",
    "        # ADD YOUR CODE HERE\n",
    "        self.letters = string.ascii_lowercase\n",
    "        random.seed(a=None)\n",
    "        \n",
    "    def generateData(self, size):     \n",
    "        # ADD YOUR CODE HERE\n",
    "        data = []\n",
    "        for i in range(1, size):\n",
    "            num = random.randint(1, 10)\n",
    "            wrd = \"\"\n",
    "            for j in range(num):\n",
    "                wrd = wrd + random.choice(self.letters)\n",
    "            data.append(wrd)\n",
    "        return data"
   ]
  },
  {
   "cell_type": "code",
   "execution_count": 9,
   "outputs": [
    {
     "name": "stderr",
     "output_type": "stream",
     "text": [
      "IOPub data rate exceeded.\n",
      "The notebook server will temporarily stop sending output\n",
      "to the client in order to avoid crashing it.\n",
      "To change this limit, set the config variable\n",
      "`--NotebookApp.iopub_data_rate_limit`.\n",
      "\n",
      "Current values:\n",
      "NotebookApp.iopub_data_rate_limit=1000000.0 (bytes/sec)\n",
      "NotebookApp.rate_limit_window=3.0 (secs)\n",
      "\n"
     ]
    }
   ],
   "source": [
    "gen = TestDataGenerator()\n",
    "data = gen.generateData(1000000)\n",
    "tree = RedBlackTreeSet()\n",
    "for d in data:\n",
    "    tree.insertElement(d)"
   ],
   "metadata": {
    "collapsed": false
   }
  },
  {
   "cell_type": "markdown",
   "metadata": {},
   "source": [
    "Use the cells below for the python code needed to **fully evaluate your implementations**, first on real data and subsequently on synthetic data (i.e., read data from test files / generate synthetic one, instantiate each of the 4 set implementations in turn, then thorouhgly experiment with insert/search operations and measure their performance)."
   ]
  },
  {
   "cell_type": "code",
   "execution_count": 8,
   "metadata": {},
   "outputs": [],
   "source": [
    "import timeit\n",
    "\n",
    "# ADD YOUR TEST CODE HERE TO WORK ON REAL DATA\n",
    "\n",
    "''' REAL DATA TEST FOR BALANCED SEARCH TREE '''\n",
    "# Comment out warpeace, moby dick test code as needed\n",
    "\n",
    "\n",
    "def generic_test_insert(data_set, file_or_virtual, real_test=True):\n",
    "    if data_set == BloomFilterSet:\n",
    "        test_set = BloomFilterSet()\n",
    "        test_set.create_bloom_filter()\n",
    "    test_set = data_set()\n",
    "    if real_test:\n",
    "        with open(file_or_virtual, \"r\") as f:\n",
    "            for line in f:\n",
    "                for word in line.split():\n",
    "                    test_set.insertElement(word)\n",
    "    else:\n",
    "        for item in file_or_virtual:\n",
    "            test_set.insertElement(item)\n",
    "    return test_set\n",
    "\n",
    "def generic_test_search(inserted_set_var, file_or_virtual, real_test=True):\n",
    "    if real_test:\n",
    "        with open(file_or_virtual, \"r\") as f:\n",
    "            for word in f:\n",
    "                target = word.strip()\n",
    "                inserted_set_var.searchElement(target)\n",
    "    else:\n",
    "        for item in file_or_virtual:\n",
    "            inserted_set_var.searchElement(item)\n",
    "\n",
    "def time_set(data_set):\n",
    "    test_search_file = \"test-search.txt\"\n",
    "    test_insert_file1 = \"test1-mobydick.txt\"\n",
    "    test_insert_file2 = \"test2-warpeace.txt\"\n",
    "    print(data_set.__name__)\n",
    "    print(\"Real test1: \")\n",
    "    stmt_insertion = 'test_set = generic_test_insert({}, \"{}\")'.format(data_set.__name__, test_insert_file1)\n",
    "    setup_insertion = 'from __main__ import generic_test_insert, {}'.format(data_set.__name__)\n",
    "    stmt_search = 'generic_test_search(a, \"{}\")'.format(test_search_file)\n",
    "    setup_search = 'from __main__ import generic_test_search, generic_test_insert, {}; a={}'.format(data_set.__name__, stmt_insertion)\n",
    "    print(timeit.timeit(stmt=stmt_insertion, setup=setup_insertion, number=1))\n",
    "    print(timeit.timeit(stmt=stmt_search, setup=setup_search, number=1))\n",
    "\n",
    "    print(\"Real test2: \")\n",
    "    stmt_insertion = 'test_set = generic_test_insert({}, \"{}\")'.format(data_set.__name__, test_insert_file2)\n",
    "    setup_insertion = 'from __main__ import generic_test_insert, {}'.format(data_set.__name__)\n",
    "    stmt_search = 'generic_test_search(a, \"{}\")'.format(test_search_file)\n",
    "    setup_search = 'from __main__ import generic_test_search, generic_test_insert, {}; a={}'.format(data_set.__name__, stmt_insertion)\n",
    "    print(timeit.timeit(stmt=stmt_insertion, setup=setup_insertion, number=1))\n",
    "    print(timeit.timeit(stmt=stmt_search, setup=setup_search, number=1))\n",
    "\n",
    "    print(\"Virtual test: \")\n",
    "    stmt_insertion = 'test_set = generic_test_insert({}, virtual_insert_data, False)'.format(data_set.__name__)\n",
    "    setup_insertion = 'from __main__ import generic_test_insert, {}, TestDataGenerator; gen = TestDataGenerator(); virtual_insert_data = gen.generateData(10000)'.format(data_set.__name__)\n",
    "    stmt_search = 'generic_test_search(a, virtual_search_data, False)'\n",
    "    setup_search = 'from __main__ import generic_test_search, generic_test_insert, {}, TestDataGenerator; gen = TestDataGenerator(); virtual_insert_data = gen.generateData(10000);  a={}; virtual_search_data = gen.generateData(100000)'.format(data_set.__name__, stmt_insertion)\n",
    "    print(timeit.timeit(stmt=stmt_insertion, setup=setup_insertion, number=1))\n",
    "    print(timeit.timeit(stmt=stmt_search, setup=setup_search, number=1))\n",
    "\n"
   ]
  },
  {
   "cell_type": "code",
   "execution_count": 22,
   "outputs": [
    {
     "name": "stdout",
     "output_type": "stream",
     "text": [
      "SequentialSearchSet\n",
      "Real test1: \n",
      "148.92770745100006\n",
      "0.526510373999372\n",
      "Real test2: \n"
     ]
    },
    {
     "ename": "KeyboardInterrupt",
     "evalue": "",
     "output_type": "error",
     "traceback": [
      "\u001B[0;31m---------------------------------------------------------------------------\u001B[0m",
      "\u001B[0;31mKeyboardInterrupt\u001B[0m                         Traceback (most recent call last)",
      "Cell \u001B[0;32mIn[22], line 1\u001B[0m\n\u001B[0;32m----> 1\u001B[0m \u001B[43mtime_set\u001B[49m\u001B[43m(\u001B[49m\u001B[43mSequentialSearchSet\u001B[49m\u001B[43m)\u001B[49m\n\u001B[1;32m      2\u001B[0m time_set(BinarySearchTreeSet)\n\u001B[1;32m      3\u001B[0m time_set(BalancedSearchTreeSet)\n",
      "Cell \u001B[0;32mIn[8], line 52\u001B[0m, in \u001B[0;36mtime_set\u001B[0;34m(data_set)\u001B[0m\n\u001B[1;32m     50\u001B[0m stmt_search \u001B[38;5;241m=\u001B[39m \u001B[38;5;124m'\u001B[39m\u001B[38;5;124mgeneric_test_search(a, \u001B[39m\u001B[38;5;124m\"\u001B[39m\u001B[38;5;132;01m{}\u001B[39;00m\u001B[38;5;124m\"\u001B[39m\u001B[38;5;124m)\u001B[39m\u001B[38;5;124m'\u001B[39m\u001B[38;5;241m.\u001B[39mformat(test_search_file)\n\u001B[1;32m     51\u001B[0m setup_search \u001B[38;5;241m=\u001B[39m \u001B[38;5;124m'\u001B[39m\u001B[38;5;124mfrom __main__ import generic_test_search, generic_test_insert, \u001B[39m\u001B[38;5;132;01m{}\u001B[39;00m\u001B[38;5;124m; a=\u001B[39m\u001B[38;5;132;01m{}\u001B[39;00m\u001B[38;5;124m'\u001B[39m\u001B[38;5;241m.\u001B[39mformat(data_set\u001B[38;5;241m.\u001B[39m\u001B[38;5;18m__name__\u001B[39m, stmt_insertion)\n\u001B[0;32m---> 52\u001B[0m \u001B[38;5;28mprint\u001B[39m(\u001B[43mtimeit\u001B[49m\u001B[38;5;241;43m.\u001B[39;49m\u001B[43mtimeit\u001B[49m\u001B[43m(\u001B[49m\u001B[43mstmt\u001B[49m\u001B[38;5;241;43m=\u001B[39;49m\u001B[43mstmt_insertion\u001B[49m\u001B[43m,\u001B[49m\u001B[43m \u001B[49m\u001B[43msetup\u001B[49m\u001B[38;5;241;43m=\u001B[39;49m\u001B[43msetup_insertion\u001B[49m\u001B[43m,\u001B[49m\u001B[43m \u001B[49m\u001B[43mnumber\u001B[49m\u001B[38;5;241;43m=\u001B[39;49m\u001B[38;5;241;43m1\u001B[39;49m\u001B[43m)\u001B[49m)\n\u001B[1;32m     53\u001B[0m \u001B[38;5;28mprint\u001B[39m(timeit\u001B[38;5;241m.\u001B[39mtimeit(stmt\u001B[38;5;241m=\u001B[39mstmt_search, setup\u001B[38;5;241m=\u001B[39msetup_search, number\u001B[38;5;241m=\u001B[39m\u001B[38;5;241m1\u001B[39m))\n\u001B[1;32m     55\u001B[0m \u001B[38;5;28mprint\u001B[39m(\u001B[38;5;124m\"\u001B[39m\u001B[38;5;124mVirtual test: \u001B[39m\u001B[38;5;124m\"\u001B[39m)\n",
      "File \u001B[0;32m~/miniconda3/envs/Team_Coursework/lib/python3.8/timeit.py:233\u001B[0m, in \u001B[0;36mtimeit\u001B[0;34m(stmt, setup, timer, number, globals)\u001B[0m\n\u001B[1;32m    230\u001B[0m \u001B[38;5;28;01mdef\u001B[39;00m \u001B[38;5;21mtimeit\u001B[39m(stmt\u001B[38;5;241m=\u001B[39m\u001B[38;5;124m\"\u001B[39m\u001B[38;5;124mpass\u001B[39m\u001B[38;5;124m\"\u001B[39m, setup\u001B[38;5;241m=\u001B[39m\u001B[38;5;124m\"\u001B[39m\u001B[38;5;124mpass\u001B[39m\u001B[38;5;124m\"\u001B[39m, timer\u001B[38;5;241m=\u001B[39mdefault_timer,\n\u001B[1;32m    231\u001B[0m            number\u001B[38;5;241m=\u001B[39mdefault_number, \u001B[38;5;28mglobals\u001B[39m\u001B[38;5;241m=\u001B[39m\u001B[38;5;28;01mNone\u001B[39;00m):\n\u001B[1;32m    232\u001B[0m     \u001B[38;5;124;03m\"\"\"Convenience function to create Timer object and call timeit method.\"\"\"\u001B[39;00m\n\u001B[0;32m--> 233\u001B[0m     \u001B[38;5;28;01mreturn\u001B[39;00m \u001B[43mTimer\u001B[49m\u001B[43m(\u001B[49m\u001B[43mstmt\u001B[49m\u001B[43m,\u001B[49m\u001B[43m \u001B[49m\u001B[43msetup\u001B[49m\u001B[43m,\u001B[49m\u001B[43m \u001B[49m\u001B[43mtimer\u001B[49m\u001B[43m,\u001B[49m\u001B[43m \u001B[49m\u001B[38;5;28;43mglobals\u001B[39;49m\u001B[43m)\u001B[49m\u001B[38;5;241;43m.\u001B[39;49m\u001B[43mtimeit\u001B[49m\u001B[43m(\u001B[49m\u001B[43mnumber\u001B[49m\u001B[43m)\u001B[49m\n",
      "File \u001B[0;32m~/miniconda3/envs/Team_Coursework/lib/python3.8/timeit.py:177\u001B[0m, in \u001B[0;36mTimer.timeit\u001B[0;34m(self, number)\u001B[0m\n\u001B[1;32m    175\u001B[0m gc\u001B[38;5;241m.\u001B[39mdisable()\n\u001B[1;32m    176\u001B[0m \u001B[38;5;28;01mtry\u001B[39;00m:\n\u001B[0;32m--> 177\u001B[0m     timing \u001B[38;5;241m=\u001B[39m \u001B[38;5;28;43mself\u001B[39;49m\u001B[38;5;241;43m.\u001B[39;49m\u001B[43minner\u001B[49m\u001B[43m(\u001B[49m\u001B[43mit\u001B[49m\u001B[43m,\u001B[49m\u001B[43m \u001B[49m\u001B[38;5;28;43mself\u001B[39;49m\u001B[38;5;241;43m.\u001B[39;49m\u001B[43mtimer\u001B[49m\u001B[43m)\u001B[49m\n\u001B[1;32m    178\u001B[0m \u001B[38;5;28;01mfinally\u001B[39;00m:\n\u001B[1;32m    179\u001B[0m     \u001B[38;5;28;01mif\u001B[39;00m gcold:\n",
      "File \u001B[0;32m<timeit-src>:6\u001B[0m, in \u001B[0;36minner\u001B[0;34m(_it, _timer)\u001B[0m\n",
      "Cell \u001B[0;32mIn[8], line 18\u001B[0m, in \u001B[0;36mgeneric_test_insert\u001B[0;34m(data_set, file_or_virtual, real_test)\u001B[0m\n\u001B[1;32m     16\u001B[0m         \u001B[38;5;28;01mfor\u001B[39;00m line \u001B[38;5;129;01min\u001B[39;00m f:\n\u001B[1;32m     17\u001B[0m             \u001B[38;5;28;01mfor\u001B[39;00m word \u001B[38;5;129;01min\u001B[39;00m line\u001B[38;5;241m.\u001B[39msplit():\n\u001B[0;32m---> 18\u001B[0m                 \u001B[43mtest_set\u001B[49m\u001B[38;5;241;43m.\u001B[39;49m\u001B[43minsertElement\u001B[49m\u001B[43m(\u001B[49m\u001B[43mword\u001B[49m\u001B[43m)\u001B[49m\n\u001B[1;32m     19\u001B[0m \u001B[38;5;28;01melse\u001B[39;00m:\n\u001B[1;32m     20\u001B[0m     \u001B[38;5;28;01mfor\u001B[39;00m item \u001B[38;5;129;01min\u001B[39;00m file_or_virtual:\n",
      "Cell \u001B[0;32mIn[3], line 20\u001B[0m, in \u001B[0;36mSequentialSearchSet.insertElement\u001B[0;34m(self, element)\u001B[0m\n\u001B[1;32m     17\u001B[0m     \u001B[38;5;28mself\u001B[39m\u001B[38;5;241m.\u001B[39mset\u001B[38;5;241m.\u001B[39mhead \u001B[38;5;241m=\u001B[39m newNode\n\u001B[1;32m     18\u001B[0m \u001B[38;5;66;03m# case 3: insert to somewhere else in the linkedlist\u001B[39;00m\n\u001B[1;32m     19\u001B[0m \u001B[38;5;28;01melse\u001B[39;00m:\n\u001B[0;32m---> 20\u001B[0m     \u001B[38;5;28;01mwhile\u001B[39;00m(current\u001B[38;5;241m.\u001B[39mnext \u001B[38;5;129;01mis\u001B[39;00m \u001B[38;5;129;01mnot\u001B[39;00m \u001B[38;5;28;01mNone\u001B[39;00m \u001B[38;5;129;01mand\u001B[39;00m \u001B[43mcurrent\u001B[49m\u001B[38;5;241;43m.\u001B[39;49m\u001B[43mnext\u001B[49m\u001B[38;5;241;43m.\u001B[39;49m\u001B[43mval\u001B[49m \u001B[38;5;241m<\u001B[39m\u001B[38;5;241m=\u001B[39m element):\n\u001B[1;32m     21\u001B[0m         current \u001B[38;5;241m=\u001B[39m current\u001B[38;5;241m.\u001B[39mnext\n\u001B[1;32m     22\u001B[0m     \u001B[38;5;28;01mif\u001B[39;00m current\u001B[38;5;241m.\u001B[39mval \u001B[38;5;241m==\u001B[39m element:\n",
      "\u001B[0;31mKeyboardInterrupt\u001B[0m: "
     ]
    }
   ],
   "source": [
    "\n",
    "time_set(SequentialSearchSet)\n",
    "time_set(BinarySearchTreeSet)\n",
    "time_set(BalancedSearchTreeSet)\n",
    "time_set(BloomFilterSet)"
   ],
   "metadata": {
    "collapsed": false
   }
  },
  {
   "cell_type": "code",
   "execution_count": 18,
   "metadata": {},
   "outputs": [
    {
     "name": "stdout",
     "output_type": "stream",
     "text": [
      "3.61219670599894\n"
     ]
    }
   ],
   "source": [
    "import timeit\n",
    "\n",
    "# ADD YOUR TEST CODE HERE TO WORK ON SYNTHETIC DATA\n",
    "''' SYNTHETIC DATA TEST FOR BALANCED SEARCH TREE '''\n",
    "gen = TestDataGenerator()\n",
    "data_insert = gen.generateData(1000000)\n",
    "#data_search = gen.generateData(100000)\n",
    "def test_balanced_tree2():\n",
    "    tree = BinarySearchTreeSet()\n",
    "    for item in data_insert:\n",
    "        tree.insertElement(item)\n",
    "\n",
    "print(timeit.timeit('test_balanced_tree2()', 'from __main__ import test_balanced_tree2', number=1))"
   ]
  },
  {
   "cell_type": "code",
   "execution_count": 14,
   "metadata": {},
   "outputs": [],
   "source": [
    "with open(\"test1-mobydick.txt\", \"r\") as f:\n",
    "    bf2 = BloomFilterSet()\n",
    "    bf2.create_bloom_filter()\n",
    "    conflict = 0\n",
    "    total_num1 = 0\n",
    "    for line in f:\n",
    "        for word in line.split():\n",
    "            total_num1 += 1\n",
    "            bf2.insertElement(word)\n",
    "exist = []\n",
    "correct = []\n",
    "with open(\"test-search.txt\", \"r\") as f:\n",
    "    for word in f:\n",
    "        target = word.strip()\n",
    "        if bf2.searchElement(target):\n",
    "            if target not in exist:\n",
    "                exist.append(target)\n",
    "with open(\"test1-mobydick.txt\", \"r\") as f:\n",
    "    for line in f:\n",
    "        for item in exist:\n",
    "            if item not in correct:\n",
    "                if line.find(item) != -1:\n",
    "                    correct.append(item)\n",
    "test1_accuracy = 1 - len(correct) / len(exist)\n",
    "\n",
    "with open(\"test2-warpeace.txt\", \"r\") as f:\n",
    "    bf = BloomFilterSet()\n",
    "    bf.create_bloom_filter()\n",
    "    conflict = 0\n",
    "    total_num2 = 0\n",
    "    for line in f:\n",
    "        for word in line.split():\n",
    "            total_num2 += 1\n",
    "            bf.insertElement(word)\n",
    "\n",
    "exist = []\n",
    "correct = []\n",
    "with open(\"test-search.txt\", \"r\") as f:\n",
    "    for word in f:\n",
    "        target = word.strip()\n",
    "        if bf.searchElement(target):\n",
    "            if target not in exist:\n",
    "                exist.append(target)\n",
    "with open(\"test2-warpeace.txt\", \"r\") as f:\n",
    "    for line in f:\n",
    "        for item in exist:\n",
    "            if item not in correct:\n",
    "                if line.find(item) != -1:\n",
    "                    correct.append(item)\n",
    "test2_accuracy = 1 - len(correct) / len(exist)\n",
    "real_sizes = [total_num1, total_num2]\n",
    "real_accuracies = [test1_accuracy, test2_accuracy]"
   ]
  },
  {
   "cell_type": "code",
   "execution_count": 15,
   "outputs": [],
   "source": [
    "def test_real_time(data_set):\n",
    "    test_search_file = \"test-search.txt\"\n",
    "    test_insert_file1 = \"test1-mobydick.txt\"\n",
    "    test_insert_file2 = \"test2-warpeace.txt\"\n",
    "    stmt_insertion1 = 'test_set = generic_test_insert({}, \"{}\")'.format(data_set.__name__, test_insert_file1)\n",
    "    setup_insertion1 = 'from __main__ import generic_test_insert, {}'.format(data_set.__name__)\n",
    "    stmt_search1 = 'generic_test_search(a, \"{}\")'.format(test_search_file)\n",
    "    setup_search1 = 'from __main__ import generic_test_search, generic_test_insert, {}; a={}'.format(data_set.__name__, stmt_insertion1)\n",
    "    stmt_insertion2 = 'test_set = generic_test_insert({}, \"{}\")'.format(data_set.__name__, test_insert_file2)\n",
    "    setup_insertion2 = 'from __main__ import generic_test_insert, {}'.format(data_set.__name__)\n",
    "    stmt_search2 = 'generic_test_search(a, \"{}\")'.format(test_search_file)\n",
    "    setup_search2 = 'from __main__ import generic_test_search, generic_test_insert, {}; a={}'.format(data_set.__name__, stmt_insertion2)\n",
    "    return [timeit.timeit(stmt=stmt_insertion1, setup=setup_insertion1, number=1), timeit.timeit(stmt=stmt_insertion2, setup=setup_insertion2, number=1)], [timeit.timeit(stmt=stmt_search1, setup=setup_search1, number=1), timeit.timeit(stmt=stmt_search2, setup=setup_search2, number=1)]"
   ],
   "metadata": {
    "collapsed": false
   }
  },
  {
   "cell_type": "markdown",
   "metadata": {},
   "source": []
  },
  {
   "cell_type": "markdown",
   "metadata": {},
   "source": []
  },
  {
   "cell_type": "code",
   "execution_count": 16,
   "metadata": {},
   "outputs": [],
   "source": [
    "def test_bloom_filter_accuracy(insert_num, search_num):\n",
    "    gen = TestDataGenerator()\n",
    "    data_insert = gen.generateData(insert_num)\n",
    "    data_search = gen.generateData(search_num)\n",
    "    exist = []\n",
    "    correct = []\n",
    "    bf3 = BloomFilterSet()\n",
    "    bf3.create_bloom_filter()\n",
    "    for word in data_insert:\n",
    "        bf3.insertElement(word)\n",
    "\n",
    "    for word in data_search:\n",
    "        if bf3.searchElement(word):\n",
    "            if word not in exist:\n",
    "                exist.append(word)\n",
    "            if word in data_insert:\n",
    "                if word not in correct:\n",
    "                    correct.append(word)\n",
    "    return 1 - len(correct) / len(exist)"
   ]
  },
  {
   "cell_type": "code",
   "execution_count": 17,
   "outputs": [],
   "source": [
    "import timeit\n",
    "def test_time(data_set, insert_num, search_num):\n",
    "    stmt_insertion = 'test_set = generic_test_insert({}, virtual_insert_data, False)'.format(data_set.__name__)\n",
    "    setup_insertion = 'from __main__ import generic_test_insert, {}, TestDataGenerator; gen = TestDataGenerator(); virtual_insert_data = gen.generateData({})'.format(data_set.__name__, insert_num)\n",
    "    stmt_search = 'generic_test_search(a, virtual_search_data, False)'\n",
    "    setup_search = 'from __main__ import generic_test_search, generic_test_insert, {}, TestDataGenerator; gen = TestDataGenerator(); virtual_insert_data = gen.generateData({});  a={}; virtual_search_data = gen.generateData({})'.format(data_set.__name__, insert_num, stmt_insertion, search_num)\n",
    "    return timeit.timeit(stmt=stmt_insertion, setup=setup_insertion, number=1), timeit.timeit(stmt=stmt_search, setup=setup_search, number=1)\n"
   ],
   "metadata": {
    "collapsed": false
   }
  },
  {
   "cell_type": "markdown",
   "source": [],
   "metadata": {
    "collapsed": false
   }
  },
  {
   "cell_type": "code",
   "execution_count": 18,
   "outputs": [],
   "source": [
    "insert = 10000\n",
    "inserts = []\n",
    "accuracies = []\n",
    "insert_times = []\n",
    "search_times = []\n",
    "count = 1\n",
    "while count <= 50:\n",
    "    cur_num = insert * count\n",
    "    cur_acc = test_bloom_filter_accuracy(insert*count, insert//10*count)\n",
    "    insert_time, search_time = test_time(BloomFilterSet, insert*count, insert//10*count)\n",
    "    inserts.append(cur_num)\n",
    "    accuracies.append(cur_acc)\n",
    "    insert_times.append(insert_time)\n",
    "    search_times.append(search_time)\n",
    "    count += 5\n",
    "\n",
    "inserts.sort()\n",
    "accuracies.sort()\n",
    "insert_times.sort()\n",
    "search_times.sort()"
   ],
   "metadata": {
    "collapsed": false
   }
  },
  {
   "cell_type": "code",
   "execution_count": 19,
   "outputs": [
    {
     "name": "stdout",
     "output_type": "stream",
     "text": [
      "[0.00019770699964283267, 0.00021183099943300476]\n",
      "[0.061851993999880506, 0.14232339699992735]\n"
     ]
    }
   ],
   "source": [
    "real_inserts, real_searchs = test_real_time(BloomFilterSet)\n",
    "print(real_searchs)\n",
    "print(real_inserts)"
   ],
   "metadata": {
    "collapsed": false
   }
  },
  {
   "cell_type": "code",
   "execution_count": 20,
   "outputs": [
    {
     "data": {
      "text/plain": "<matplotlib.legend.Legend at 0x7fb5c5f63d60>"
     },
     "execution_count": 20,
     "metadata": {},
     "output_type": "execute_result"
    },
    {
     "data": {
      "text/plain": "<Figure size 640x480 with 1 Axes>",
      "image/png": "[encoded data removed]"
     },
     "metadata": {},
     "output_type": "display_data"
    }
   ],
   "source": [
    "import matplotlib.pyplot as plt\n",
    "plt.plot(inserts, accuracies, color='c', label='synthetic')\n",
    "plt.plot(real_sizes, real_accuracies, color='r', label='real')\n",
    "plt.title(\"BloomFilterSet\")\n",
    "plt.xlabel(\"Size of data\")\n",
    "plt.ylabel(\"False positive probability\")\n",
    "plt.legend()"
   ],
   "metadata": {
    "collapsed": false
   }
  },
  {
   "cell_type": "code",
   "execution_count": 21,
   "outputs": [
    {
     "data": {
      "text/plain": "<matplotlib.legend.Legend at 0x7fb5a59be3d0>"
     },
     "execution_count": 21,
     "metadata": {},
     "output_type": "execute_result"
    },
    {
     "data": {
      "text/plain": "<Figure size 640x480 with 1 Axes>",
      "image/png": "[encoded data removed]"
     },
     "metadata": {},
     "output_type": "display_data"
    }
   ],
   "source": [
    "plt.plot(inserts, insert_times, color='c', label='synthetic')\n",
    "plt.plot(real_sizes, real_inserts, color='r', label='real')\n",
    "plt.title(\"BloomFilterSet\")\n",
    "plt.xlabel(\"Size of data\")\n",
    "plt.ylabel(\"Insert time\")\n",
    "plt.legend()"
   ],
   "metadata": {
    "collapsed": false
   }
  },
  {
   "cell_type": "code",
   "execution_count": 122,
   "outputs": [
    {
     "data": {
      "text/plain": "<matplotlib.legend.Legend at 0x7f782cf35a30>"
     },
     "execution_count": 122,
     "metadata": {},
     "output_type": "execute_result"
    },
    {
     "data": {
      "text/plain": "<Figure size 640x480 with 1 Axes>",
      "image/png": "[encoded data removed]"
     },
     "metadata": {},
     "output_type": "display_data"
    }
   ],
   "source": [
    "plt.plot(inserts, search_times, color='c', label='synthetic')\n",
    "plt.plot(real_sizes, real_searchs, color='r', label='real')\n",
    "plt.title(\"BloomFilterSet\")\n",
    "plt.xlabel(\"Size of data\")\n",
    "plt.ylabel(\"Search time\")\n",
    "plt.legend()"
   ],
   "metadata": {
    "collapsed": false
   }
  },
  {
   "cell_type": "code",
   "execution_count": null,
   "outputs": [],
   "source": [],
   "metadata": {
    "collapsed": false
   }
  }
 ],
 "metadata": {
  "kernelspec": {
   "display_name": "Python 3 (ipykernel)",
   "language": "python",
   "name": "python3"
  },
  "language_info": {
   "codemirror_mode": {
    "name": "ipython",
    "version": 3
   },
   "file_extension": ".py",
   "mimetype": "text/x-python",
   "name": "python",
   "nbconvert_exporter": "python",
   "pygments_lexer": "ipython3",
   "version": "3.9.5"
  },
  "vscode": {
   "interpreter": {
    "hash": "aee8b7b246df8f9039afb4144a1f6fd8d2ca17a180786b69acc140d282b71a49"
   }
  }
 },
 "nbformat": 4,
 "nbformat_minor": 4
}
